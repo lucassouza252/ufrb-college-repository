{
 "cells": [
  {
   "cell_type": "markdown",
   "metadata": {},
   "source": [
    "## Trabalho Final Disciplina: Inteligencia Artificial\n",
    "\n",
    "#### Discentes: \n",
    "##### Lucas Carvalho Souza - 201511331\n",
    "##### Bruno de Souza Mercês - 2017208081\n",
    "#### Yanes Costa Nascimento - 2020124564"
   ]
  },
  {
   "cell_type": "markdown",
   "metadata": {},
   "source": [
    "O conjunto de dados utilizado para este trabalho é originado do site Kaggle.com, proveniente de uma competição onde o foco é encontrar o valor para imóveis a partir de dados previamente catalogados por uma corretora contendo informações sobre o imovel e seu local, que podem contribuir para a variação do preço de venda.\n",
    "Alguns dados abordados neste dataset é: \n",
    "Zona, se é comercial, agricultura, industrial, entre outros;\n",
    "Area do loteamento;\n",
    "Tipo de rua, se é pavimentada, calçada, terra;\n",
    "Tamanho da propriedade, se é regular, moderada, irregular;\n",
    "Curvatura do terreno, se é curvo, plano, planalto;\n",
    "Localização fisica, nome de bairros;\n",
    "Condição, se é proximo a avenidas, ruas movimentadas, estradas conhecidas;\n",
    "Tipo da residencia, se é para uma familia, mais que uma familia, entre outros;\n",
    "E diversos outros parametros."
   ]
  },
  {
   "cell_type": "markdown",
   "metadata": {},
   "source": [
    "O trabalho será realizado utilizando bibliotecas basicas para análise de dados como NumPy, Pandas, Matplotlib e Sklean."
   ]
  },
  {
   "cell_type": "markdown",
   "metadata": {},
   "source": [
    "Importação das Bibliotecas Necessárias para a execução do projeto"
   ]
  },
  {
   "cell_type": "code",
   "execution_count": 1,
   "metadata": {
    "executionInfo": {
     "elapsed": 757,
     "status": "ok",
     "timestamp": 1607802493494,
     "user": {
      "displayName": "Lucas Souza",
      "photoUrl": "https://lh3.googleusercontent.com/a-/AOh14GiNZSzZfQSuGqiC55rLC_abuK2ct738rvVkMm2jzg=s64",
      "userId": "04489010762287401360"
     },
     "user_tz": 180
    },
    "id": "YYycoIUDPc1U"
   },
   "outputs": [],
   "source": [
    "# Biblioteca de algebra linear e manipulação de vetores\n",
    "import numpy as np\n",
    "# Biblioteca de manipulação de dados com Series e DataFrames\n",
    "import pandas as pd\n",
    "# Biblioteca para plot de gráficos\n",
    "import matplotlib.pyplot as plt\n",
    "# Bibliotecas para aprendizagem de maquina\n",
    "from sklearn.linear_model import LinearRegression, Ridge, Lasso\n",
    "from sklearn.ensemble import RandomForestRegressor\n",
    "# Biblioteca para fazer separação do dataset em treino e teste\n",
    "from sklearn.model_selection import train_test_split\n",
    "# Bibliotecas de metricas\n",
    "from sklearn.metrics import mean_squared_error\n",
    "from sklearn.metrics import r2_score\n",
    "from sklearn.model_selection import cross_val_score\n",
    "# Biblioteca para ignorar avisos\n",
    "import warnings\n",
    "warnings.filterwarnings('ignore')"
   ]
  },
  {
   "cell_type": "markdown",
   "metadata": {},
   "source": [
    "### Primeira Parte - Exploração de Dados"
   ]
  },
  {
   "cell_type": "markdown",
   "metadata": {},
   "source": [
    "Lê o arquivo csv com a tabela de dados utilizando o Pandas"
   ]
  },
  {
   "cell_type": "code",
   "execution_count": 2,
   "metadata": {
    "executionInfo": {
     "elapsed": 791,
     "status": "ok",
     "timestamp": 1607797057418,
     "user": {
      "displayName": "Lucas Souza",
      "photoUrl": "https://lh3.googleusercontent.com/a-/AOh14GiNZSzZfQSuGqiC55rLC_abuK2ct738rvVkMm2jzg=s64",
      "userId": "04489010762287401360"
     },
     "user_tz": 180
    },
    "id": "quVjWcsCQHxG"
   },
   "outputs": [],
   "source": [
    "data_train = pd.read_csv(\"train.csv\")"
   ]
  },
  {
   "cell_type": "markdown",
   "metadata": {},
   "source": [
    "Primeiramente é realizado algumas inspeções nos dados para familiarizar com as colunas e suas informações"
   ]
  },
  {
   "cell_type": "code",
   "execution_count": 3,
   "metadata": {
    "colab": {
     "base_uri": "https://localhost:8080/",
     "height": 253
    },
    "executionInfo": {
     "elapsed": 2118,
     "status": "ok",
     "timestamp": 1607796617337,
     "user": {
      "displayName": "Lucas Souza",
      "photoUrl": "https://lh3.googleusercontent.com/a-/AOh14GiNZSzZfQSuGqiC55rLC_abuK2ct738rvVkMm2jzg=s64",
      "userId": "04489010762287401360"
     },
     "user_tz": 180
    },
    "id": "MgK43tk1R4tb",
    "outputId": "995d8d82-d9a6-46b2-d94e-84993c5b46f2"
   },
   "outputs": [
    {
     "data": {
      "text/html": [
       "<div>\n",
       "<style scoped>\n",
       "    .dataframe tbody tr th:only-of-type {\n",
       "        vertical-align: middle;\n",
       "    }\n",
       "\n",
       "    .dataframe tbody tr th {\n",
       "        vertical-align: top;\n",
       "    }\n",
       "\n",
       "    .dataframe thead th {\n",
       "        text-align: right;\n",
       "    }\n",
       "</style>\n",
       "<table border=\"1\" class=\"dataframe\">\n",
       "  <thead>\n",
       "    <tr style=\"text-align: right;\">\n",
       "      <th></th>\n",
       "      <th>Id</th>\n",
       "      <th>MSSubClass</th>\n",
       "      <th>MSZoning</th>\n",
       "      <th>LotFrontage</th>\n",
       "      <th>LotArea</th>\n",
       "      <th>Street</th>\n",
       "      <th>Alley</th>\n",
       "      <th>LotShape</th>\n",
       "      <th>LandContour</th>\n",
       "      <th>Utilities</th>\n",
       "      <th>...</th>\n",
       "      <th>PoolArea</th>\n",
       "      <th>PoolQC</th>\n",
       "      <th>Fence</th>\n",
       "      <th>MiscFeature</th>\n",
       "      <th>MiscVal</th>\n",
       "      <th>MoSold</th>\n",
       "      <th>YrSold</th>\n",
       "      <th>SaleType</th>\n",
       "      <th>SaleCondition</th>\n",
       "      <th>SalePrice</th>\n",
       "    </tr>\n",
       "  </thead>\n",
       "  <tbody>\n",
       "    <tr>\n",
       "      <th>0</th>\n",
       "      <td>1</td>\n",
       "      <td>60</td>\n",
       "      <td>RL</td>\n",
       "      <td>65.0</td>\n",
       "      <td>8450</td>\n",
       "      <td>Pave</td>\n",
       "      <td>NaN</td>\n",
       "      <td>Reg</td>\n",
       "      <td>Lvl</td>\n",
       "      <td>AllPub</td>\n",
       "      <td>...</td>\n",
       "      <td>0</td>\n",
       "      <td>NaN</td>\n",
       "      <td>NaN</td>\n",
       "      <td>NaN</td>\n",
       "      <td>0</td>\n",
       "      <td>2</td>\n",
       "      <td>2008</td>\n",
       "      <td>WD</td>\n",
       "      <td>Normal</td>\n",
       "      <td>208500</td>\n",
       "    </tr>\n",
       "    <tr>\n",
       "      <th>1</th>\n",
       "      <td>2</td>\n",
       "      <td>20</td>\n",
       "      <td>RL</td>\n",
       "      <td>80.0</td>\n",
       "      <td>9600</td>\n",
       "      <td>Pave</td>\n",
       "      <td>NaN</td>\n",
       "      <td>Reg</td>\n",
       "      <td>Lvl</td>\n",
       "      <td>AllPub</td>\n",
       "      <td>...</td>\n",
       "      <td>0</td>\n",
       "      <td>NaN</td>\n",
       "      <td>NaN</td>\n",
       "      <td>NaN</td>\n",
       "      <td>0</td>\n",
       "      <td>5</td>\n",
       "      <td>2007</td>\n",
       "      <td>WD</td>\n",
       "      <td>Normal</td>\n",
       "      <td>181500</td>\n",
       "    </tr>\n",
       "    <tr>\n",
       "      <th>2</th>\n",
       "      <td>3</td>\n",
       "      <td>60</td>\n",
       "      <td>RL</td>\n",
       "      <td>68.0</td>\n",
       "      <td>11250</td>\n",
       "      <td>Pave</td>\n",
       "      <td>NaN</td>\n",
       "      <td>IR1</td>\n",
       "      <td>Lvl</td>\n",
       "      <td>AllPub</td>\n",
       "      <td>...</td>\n",
       "      <td>0</td>\n",
       "      <td>NaN</td>\n",
       "      <td>NaN</td>\n",
       "      <td>NaN</td>\n",
       "      <td>0</td>\n",
       "      <td>9</td>\n",
       "      <td>2008</td>\n",
       "      <td>WD</td>\n",
       "      <td>Normal</td>\n",
       "      <td>223500</td>\n",
       "    </tr>\n",
       "    <tr>\n",
       "      <th>3</th>\n",
       "      <td>4</td>\n",
       "      <td>70</td>\n",
       "      <td>RL</td>\n",
       "      <td>60.0</td>\n",
       "      <td>9550</td>\n",
       "      <td>Pave</td>\n",
       "      <td>NaN</td>\n",
       "      <td>IR1</td>\n",
       "      <td>Lvl</td>\n",
       "      <td>AllPub</td>\n",
       "      <td>...</td>\n",
       "      <td>0</td>\n",
       "      <td>NaN</td>\n",
       "      <td>NaN</td>\n",
       "      <td>NaN</td>\n",
       "      <td>0</td>\n",
       "      <td>2</td>\n",
       "      <td>2006</td>\n",
       "      <td>WD</td>\n",
       "      <td>Abnorml</td>\n",
       "      <td>140000</td>\n",
       "    </tr>\n",
       "    <tr>\n",
       "      <th>4</th>\n",
       "      <td>5</td>\n",
       "      <td>60</td>\n",
       "      <td>RL</td>\n",
       "      <td>84.0</td>\n",
       "      <td>14260</td>\n",
       "      <td>Pave</td>\n",
       "      <td>NaN</td>\n",
       "      <td>IR1</td>\n",
       "      <td>Lvl</td>\n",
       "      <td>AllPub</td>\n",
       "      <td>...</td>\n",
       "      <td>0</td>\n",
       "      <td>NaN</td>\n",
       "      <td>NaN</td>\n",
       "      <td>NaN</td>\n",
       "      <td>0</td>\n",
       "      <td>12</td>\n",
       "      <td>2008</td>\n",
       "      <td>WD</td>\n",
       "      <td>Normal</td>\n",
       "      <td>250000</td>\n",
       "    </tr>\n",
       "  </tbody>\n",
       "</table>\n",
       "<p>5 rows × 81 columns</p>\n",
       "</div>"
      ],
      "text/plain": [
       "   Id  MSSubClass MSZoning  LotFrontage  LotArea Street Alley LotShape  \\\n",
       "0   1          60       RL         65.0     8450   Pave   NaN      Reg   \n",
       "1   2          20       RL         80.0     9600   Pave   NaN      Reg   \n",
       "2   3          60       RL         68.0    11250   Pave   NaN      IR1   \n",
       "3   4          70       RL         60.0     9550   Pave   NaN      IR1   \n",
       "4   5          60       RL         84.0    14260   Pave   NaN      IR1   \n",
       "\n",
       "  LandContour Utilities  ... PoolArea PoolQC Fence MiscFeature MiscVal MoSold  \\\n",
       "0         Lvl    AllPub  ...        0    NaN   NaN         NaN       0      2   \n",
       "1         Lvl    AllPub  ...        0    NaN   NaN         NaN       0      5   \n",
       "2         Lvl    AllPub  ...        0    NaN   NaN         NaN       0      9   \n",
       "3         Lvl    AllPub  ...        0    NaN   NaN         NaN       0      2   \n",
       "4         Lvl    AllPub  ...        0    NaN   NaN         NaN       0     12   \n",
       "\n",
       "  YrSold  SaleType  SaleCondition  SalePrice  \n",
       "0   2008        WD         Normal     208500  \n",
       "1   2007        WD         Normal     181500  \n",
       "2   2008        WD         Normal     223500  \n",
       "3   2006        WD        Abnorml     140000  \n",
       "4   2008        WD         Normal     250000  \n",
       "\n",
       "[5 rows x 81 columns]"
      ]
     },
     "execution_count": 3,
     "metadata": {},
     "output_type": "execute_result"
    }
   ],
   "source": [
    "# Mostra as primeiras 5 linhas do dataset e suas respectivas colunas\n",
    "data_train.head()"
   ]
  },
  {
   "cell_type": "code",
   "execution_count": 4,
   "metadata": {
    "colab": {
     "base_uri": "https://localhost:8080/"
    },
    "executionInfo": {
     "elapsed": 880,
     "status": "ok",
     "timestamp": 1607796624567,
     "user": {
      "displayName": "Lucas Souza",
      "photoUrl": "https://lh3.googleusercontent.com/a-/AOh14GiNZSzZfQSuGqiC55rLC_abuK2ct738rvVkMm2jzg=s64",
      "userId": "04489010762287401360"
     },
     "user_tz": 180
    },
    "id": "3sxNjDGtR6WJ",
    "outputId": "b2aa140a-9113-4732-c922-43ff649da707"
   },
   "outputs": [
    {
     "name": "stdout",
     "output_type": "stream",
     "text": [
      "<class 'pandas.core.frame.DataFrame'>\n",
      "RangeIndex: 1460 entries, 0 to 1459\n",
      "Data columns (total 81 columns):\n",
      "Id               1460 non-null int64\n",
      "MSSubClass       1460 non-null int64\n",
      "MSZoning         1460 non-null object\n",
      "LotFrontage      1201 non-null float64\n",
      "LotArea          1460 non-null int64\n",
      "Street           1460 non-null object\n",
      "Alley            91 non-null object\n",
      "LotShape         1460 non-null object\n",
      "LandContour      1460 non-null object\n",
      "Utilities        1460 non-null object\n",
      "LotConfig        1460 non-null object\n",
      "LandSlope        1460 non-null object\n",
      "Neighborhood     1460 non-null object\n",
      "Condition1       1460 non-null object\n",
      "Condition2       1460 non-null object\n",
      "BldgType         1460 non-null object\n",
      "HouseStyle       1460 non-null object\n",
      "OverallQual      1460 non-null int64\n",
      "OverallCond      1460 non-null int64\n",
      "YearBuilt        1460 non-null int64\n",
      "YearRemodAdd     1460 non-null int64\n",
      "RoofStyle        1460 non-null object\n",
      "RoofMatl         1460 non-null object\n",
      "Exterior1st      1460 non-null object\n",
      "Exterior2nd      1460 non-null object\n",
      "MasVnrType       1452 non-null object\n",
      "MasVnrArea       1452 non-null float64\n",
      "ExterQual        1460 non-null object\n",
      "ExterCond        1460 non-null object\n",
      "Foundation       1460 non-null object\n",
      "BsmtQual         1423 non-null object\n",
      "BsmtCond         1423 non-null object\n",
      "BsmtExposure     1422 non-null object\n",
      "BsmtFinType1     1423 non-null object\n",
      "BsmtFinSF1       1460 non-null int64\n",
      "BsmtFinType2     1422 non-null object\n",
      "BsmtFinSF2       1460 non-null int64\n",
      "BsmtUnfSF        1460 non-null int64\n",
      "TotalBsmtSF      1460 non-null int64\n",
      "Heating          1460 non-null object\n",
      "HeatingQC        1460 non-null object\n",
      "CentralAir       1460 non-null object\n",
      "Electrical       1459 non-null object\n",
      "1stFlrSF         1460 non-null int64\n",
      "2ndFlrSF         1460 non-null int64\n",
      "LowQualFinSF     1460 non-null int64\n",
      "GrLivArea        1460 non-null int64\n",
      "BsmtFullBath     1460 non-null int64\n",
      "BsmtHalfBath     1460 non-null int64\n",
      "FullBath         1460 non-null int64\n",
      "HalfBath         1460 non-null int64\n",
      "BedroomAbvGr     1460 non-null int64\n",
      "KitchenAbvGr     1460 non-null int64\n",
      "KitchenQual      1460 non-null object\n",
      "TotRmsAbvGrd     1460 non-null int64\n",
      "Functional       1460 non-null object\n",
      "Fireplaces       1460 non-null int64\n",
      "FireplaceQu      770 non-null object\n",
      "GarageType       1379 non-null object\n",
      "GarageYrBlt      1379 non-null float64\n",
      "GarageFinish     1379 non-null object\n",
      "GarageCars       1460 non-null int64\n",
      "GarageArea       1460 non-null int64\n",
      "GarageQual       1379 non-null object\n",
      "GarageCond       1379 non-null object\n",
      "PavedDrive       1460 non-null object\n",
      "WoodDeckSF       1460 non-null int64\n",
      "OpenPorchSF      1460 non-null int64\n",
      "EnclosedPorch    1460 non-null int64\n",
      "3SsnPorch        1460 non-null int64\n",
      "ScreenPorch      1460 non-null int64\n",
      "PoolArea         1460 non-null int64\n",
      "PoolQC           7 non-null object\n",
      "Fence            281 non-null object\n",
      "MiscFeature      54 non-null object\n",
      "MiscVal          1460 non-null int64\n",
      "MoSold           1460 non-null int64\n",
      "YrSold           1460 non-null int64\n",
      "SaleType         1460 non-null object\n",
      "SaleCondition    1460 non-null object\n",
      "SalePrice        1460 non-null int64\n",
      "dtypes: float64(3), int64(35), object(43)\n",
      "memory usage: 924.0+ KB\n"
     ]
    }
   ],
   "source": [
    "# Mostra as informações do dataset: Numero de linhas não nulas por coluna, e o tipo do dado da coluna\n",
    "data_train.info()"
   ]
  },
  {
   "cell_type": "code",
   "execution_count": 5,
   "metadata": {
    "colab": {
     "base_uri": "https://localhost:8080/",
     "height": 1000
    },
    "executionInfo": {
     "elapsed": 789,
     "status": "ok",
     "timestamp": 1607796631284,
     "user": {
      "displayName": "Lucas Souza",
      "photoUrl": "https://lh3.googleusercontent.com/a-/AOh14GiNZSzZfQSuGqiC55rLC_abuK2ct738rvVkMm2jzg=s64",
      "userId": "04489010762287401360"
     },
     "user_tz": 180
    },
    "id": "MwEnBJVuR8_g",
    "outputId": "02413fbd-805a-4725-9b64-bacb1365c5ae"
   },
   "outputs": [
    {
     "data": {
      "text/html": [
       "<div>\n",
       "<style scoped>\n",
       "    .dataframe tbody tr th:only-of-type {\n",
       "        vertical-align: middle;\n",
       "    }\n",
       "\n",
       "    .dataframe tbody tr th {\n",
       "        vertical-align: top;\n",
       "    }\n",
       "\n",
       "    .dataframe thead th {\n",
       "        text-align: right;\n",
       "    }\n",
       "</style>\n",
       "<table border=\"1\" class=\"dataframe\">\n",
       "  <thead>\n",
       "    <tr style=\"text-align: right;\">\n",
       "      <th></th>\n",
       "      <th>count</th>\n",
       "      <th>mean</th>\n",
       "      <th>std</th>\n",
       "      <th>min</th>\n",
       "      <th>25%</th>\n",
       "      <th>50%</th>\n",
       "      <th>75%</th>\n",
       "      <th>max</th>\n",
       "    </tr>\n",
       "  </thead>\n",
       "  <tbody>\n",
       "    <tr>\n",
       "      <th>Id</th>\n",
       "      <td>1460.0</td>\n",
       "      <td>730.500000</td>\n",
       "      <td>421.610009</td>\n",
       "      <td>1.0</td>\n",
       "      <td>365.75</td>\n",
       "      <td>730.5</td>\n",
       "      <td>1095.25</td>\n",
       "      <td>1460.0</td>\n",
       "    </tr>\n",
       "    <tr>\n",
       "      <th>MSSubClass</th>\n",
       "      <td>1460.0</td>\n",
       "      <td>56.897260</td>\n",
       "      <td>42.300571</td>\n",
       "      <td>20.0</td>\n",
       "      <td>20.00</td>\n",
       "      <td>50.0</td>\n",
       "      <td>70.00</td>\n",
       "      <td>190.0</td>\n",
       "    </tr>\n",
       "    <tr>\n",
       "      <th>LotFrontage</th>\n",
       "      <td>1201.0</td>\n",
       "      <td>70.049958</td>\n",
       "      <td>24.284752</td>\n",
       "      <td>21.0</td>\n",
       "      <td>59.00</td>\n",
       "      <td>69.0</td>\n",
       "      <td>80.00</td>\n",
       "      <td>313.0</td>\n",
       "    </tr>\n",
       "    <tr>\n",
       "      <th>LotArea</th>\n",
       "      <td>1460.0</td>\n",
       "      <td>10516.828082</td>\n",
       "      <td>9981.264932</td>\n",
       "      <td>1300.0</td>\n",
       "      <td>7553.50</td>\n",
       "      <td>9478.5</td>\n",
       "      <td>11601.50</td>\n",
       "      <td>215245.0</td>\n",
       "    </tr>\n",
       "    <tr>\n",
       "      <th>OverallQual</th>\n",
       "      <td>1460.0</td>\n",
       "      <td>6.099315</td>\n",
       "      <td>1.382997</td>\n",
       "      <td>1.0</td>\n",
       "      <td>5.00</td>\n",
       "      <td>6.0</td>\n",
       "      <td>7.00</td>\n",
       "      <td>10.0</td>\n",
       "    </tr>\n",
       "    <tr>\n",
       "      <th>OverallCond</th>\n",
       "      <td>1460.0</td>\n",
       "      <td>5.575342</td>\n",
       "      <td>1.112799</td>\n",
       "      <td>1.0</td>\n",
       "      <td>5.00</td>\n",
       "      <td>5.0</td>\n",
       "      <td>6.00</td>\n",
       "      <td>9.0</td>\n",
       "    </tr>\n",
       "    <tr>\n",
       "      <th>YearBuilt</th>\n",
       "      <td>1460.0</td>\n",
       "      <td>1971.267808</td>\n",
       "      <td>30.202904</td>\n",
       "      <td>1872.0</td>\n",
       "      <td>1954.00</td>\n",
       "      <td>1973.0</td>\n",
       "      <td>2000.00</td>\n",
       "      <td>2010.0</td>\n",
       "    </tr>\n",
       "    <tr>\n",
       "      <th>YearRemodAdd</th>\n",
       "      <td>1460.0</td>\n",
       "      <td>1984.865753</td>\n",
       "      <td>20.645407</td>\n",
       "      <td>1950.0</td>\n",
       "      <td>1967.00</td>\n",
       "      <td>1994.0</td>\n",
       "      <td>2004.00</td>\n",
       "      <td>2010.0</td>\n",
       "    </tr>\n",
       "    <tr>\n",
       "      <th>MasVnrArea</th>\n",
       "      <td>1452.0</td>\n",
       "      <td>103.685262</td>\n",
       "      <td>181.066207</td>\n",
       "      <td>0.0</td>\n",
       "      <td>0.00</td>\n",
       "      <td>0.0</td>\n",
       "      <td>166.00</td>\n",
       "      <td>1600.0</td>\n",
       "    </tr>\n",
       "    <tr>\n",
       "      <th>BsmtFinSF1</th>\n",
       "      <td>1460.0</td>\n",
       "      <td>443.639726</td>\n",
       "      <td>456.098091</td>\n",
       "      <td>0.0</td>\n",
       "      <td>0.00</td>\n",
       "      <td>383.5</td>\n",
       "      <td>712.25</td>\n",
       "      <td>5644.0</td>\n",
       "    </tr>\n",
       "    <tr>\n",
       "      <th>BsmtFinSF2</th>\n",
       "      <td>1460.0</td>\n",
       "      <td>46.549315</td>\n",
       "      <td>161.319273</td>\n",
       "      <td>0.0</td>\n",
       "      <td>0.00</td>\n",
       "      <td>0.0</td>\n",
       "      <td>0.00</td>\n",
       "      <td>1474.0</td>\n",
       "    </tr>\n",
       "    <tr>\n",
       "      <th>BsmtUnfSF</th>\n",
       "      <td>1460.0</td>\n",
       "      <td>567.240411</td>\n",
       "      <td>441.866955</td>\n",
       "      <td>0.0</td>\n",
       "      <td>223.00</td>\n",
       "      <td>477.5</td>\n",
       "      <td>808.00</td>\n",
       "      <td>2336.0</td>\n",
       "    </tr>\n",
       "    <tr>\n",
       "      <th>TotalBsmtSF</th>\n",
       "      <td>1460.0</td>\n",
       "      <td>1057.429452</td>\n",
       "      <td>438.705324</td>\n",
       "      <td>0.0</td>\n",
       "      <td>795.75</td>\n",
       "      <td>991.5</td>\n",
       "      <td>1298.25</td>\n",
       "      <td>6110.0</td>\n",
       "    </tr>\n",
       "    <tr>\n",
       "      <th>1stFlrSF</th>\n",
       "      <td>1460.0</td>\n",
       "      <td>1162.626712</td>\n",
       "      <td>386.587738</td>\n",
       "      <td>334.0</td>\n",
       "      <td>882.00</td>\n",
       "      <td>1087.0</td>\n",
       "      <td>1391.25</td>\n",
       "      <td>4692.0</td>\n",
       "    </tr>\n",
       "    <tr>\n",
       "      <th>2ndFlrSF</th>\n",
       "      <td>1460.0</td>\n",
       "      <td>346.992466</td>\n",
       "      <td>436.528436</td>\n",
       "      <td>0.0</td>\n",
       "      <td>0.00</td>\n",
       "      <td>0.0</td>\n",
       "      <td>728.00</td>\n",
       "      <td>2065.0</td>\n",
       "    </tr>\n",
       "    <tr>\n",
       "      <th>LowQualFinSF</th>\n",
       "      <td>1460.0</td>\n",
       "      <td>5.844521</td>\n",
       "      <td>48.623081</td>\n",
       "      <td>0.0</td>\n",
       "      <td>0.00</td>\n",
       "      <td>0.0</td>\n",
       "      <td>0.00</td>\n",
       "      <td>572.0</td>\n",
       "    </tr>\n",
       "    <tr>\n",
       "      <th>GrLivArea</th>\n",
       "      <td>1460.0</td>\n",
       "      <td>1515.463699</td>\n",
       "      <td>525.480383</td>\n",
       "      <td>334.0</td>\n",
       "      <td>1129.50</td>\n",
       "      <td>1464.0</td>\n",
       "      <td>1776.75</td>\n",
       "      <td>5642.0</td>\n",
       "    </tr>\n",
       "    <tr>\n",
       "      <th>BsmtFullBath</th>\n",
       "      <td>1460.0</td>\n",
       "      <td>0.425342</td>\n",
       "      <td>0.518911</td>\n",
       "      <td>0.0</td>\n",
       "      <td>0.00</td>\n",
       "      <td>0.0</td>\n",
       "      <td>1.00</td>\n",
       "      <td>3.0</td>\n",
       "    </tr>\n",
       "    <tr>\n",
       "      <th>BsmtHalfBath</th>\n",
       "      <td>1460.0</td>\n",
       "      <td>0.057534</td>\n",
       "      <td>0.238753</td>\n",
       "      <td>0.0</td>\n",
       "      <td>0.00</td>\n",
       "      <td>0.0</td>\n",
       "      <td>0.00</td>\n",
       "      <td>2.0</td>\n",
       "    </tr>\n",
       "    <tr>\n",
       "      <th>FullBath</th>\n",
       "      <td>1460.0</td>\n",
       "      <td>1.565068</td>\n",
       "      <td>0.550916</td>\n",
       "      <td>0.0</td>\n",
       "      <td>1.00</td>\n",
       "      <td>2.0</td>\n",
       "      <td>2.00</td>\n",
       "      <td>3.0</td>\n",
       "    </tr>\n",
       "    <tr>\n",
       "      <th>HalfBath</th>\n",
       "      <td>1460.0</td>\n",
       "      <td>0.382877</td>\n",
       "      <td>0.502885</td>\n",
       "      <td>0.0</td>\n",
       "      <td>0.00</td>\n",
       "      <td>0.0</td>\n",
       "      <td>1.00</td>\n",
       "      <td>2.0</td>\n",
       "    </tr>\n",
       "    <tr>\n",
       "      <th>BedroomAbvGr</th>\n",
       "      <td>1460.0</td>\n",
       "      <td>2.866438</td>\n",
       "      <td>0.815778</td>\n",
       "      <td>0.0</td>\n",
       "      <td>2.00</td>\n",
       "      <td>3.0</td>\n",
       "      <td>3.00</td>\n",
       "      <td>8.0</td>\n",
       "    </tr>\n",
       "    <tr>\n",
       "      <th>KitchenAbvGr</th>\n",
       "      <td>1460.0</td>\n",
       "      <td>1.046575</td>\n",
       "      <td>0.220338</td>\n",
       "      <td>0.0</td>\n",
       "      <td>1.00</td>\n",
       "      <td>1.0</td>\n",
       "      <td>1.00</td>\n",
       "      <td>3.0</td>\n",
       "    </tr>\n",
       "    <tr>\n",
       "      <th>TotRmsAbvGrd</th>\n",
       "      <td>1460.0</td>\n",
       "      <td>6.517808</td>\n",
       "      <td>1.625393</td>\n",
       "      <td>2.0</td>\n",
       "      <td>5.00</td>\n",
       "      <td>6.0</td>\n",
       "      <td>7.00</td>\n",
       "      <td>14.0</td>\n",
       "    </tr>\n",
       "    <tr>\n",
       "      <th>Fireplaces</th>\n",
       "      <td>1460.0</td>\n",
       "      <td>0.613014</td>\n",
       "      <td>0.644666</td>\n",
       "      <td>0.0</td>\n",
       "      <td>0.00</td>\n",
       "      <td>1.0</td>\n",
       "      <td>1.00</td>\n",
       "      <td>3.0</td>\n",
       "    </tr>\n",
       "    <tr>\n",
       "      <th>GarageYrBlt</th>\n",
       "      <td>1379.0</td>\n",
       "      <td>1978.506164</td>\n",
       "      <td>24.689725</td>\n",
       "      <td>1900.0</td>\n",
       "      <td>1961.00</td>\n",
       "      <td>1980.0</td>\n",
       "      <td>2002.00</td>\n",
       "      <td>2010.0</td>\n",
       "    </tr>\n",
       "    <tr>\n",
       "      <th>GarageCars</th>\n",
       "      <td>1460.0</td>\n",
       "      <td>1.767123</td>\n",
       "      <td>0.747315</td>\n",
       "      <td>0.0</td>\n",
       "      <td>1.00</td>\n",
       "      <td>2.0</td>\n",
       "      <td>2.00</td>\n",
       "      <td>4.0</td>\n",
       "    </tr>\n",
       "    <tr>\n",
       "      <th>GarageArea</th>\n",
       "      <td>1460.0</td>\n",
       "      <td>472.980137</td>\n",
       "      <td>213.804841</td>\n",
       "      <td>0.0</td>\n",
       "      <td>334.50</td>\n",
       "      <td>480.0</td>\n",
       "      <td>576.00</td>\n",
       "      <td>1418.0</td>\n",
       "    </tr>\n",
       "    <tr>\n",
       "      <th>WoodDeckSF</th>\n",
       "      <td>1460.0</td>\n",
       "      <td>94.244521</td>\n",
       "      <td>125.338794</td>\n",
       "      <td>0.0</td>\n",
       "      <td>0.00</td>\n",
       "      <td>0.0</td>\n",
       "      <td>168.00</td>\n",
       "      <td>857.0</td>\n",
       "    </tr>\n",
       "    <tr>\n",
       "      <th>OpenPorchSF</th>\n",
       "      <td>1460.0</td>\n",
       "      <td>46.660274</td>\n",
       "      <td>66.256028</td>\n",
       "      <td>0.0</td>\n",
       "      <td>0.00</td>\n",
       "      <td>25.0</td>\n",
       "      <td>68.00</td>\n",
       "      <td>547.0</td>\n",
       "    </tr>\n",
       "    <tr>\n",
       "      <th>EnclosedPorch</th>\n",
       "      <td>1460.0</td>\n",
       "      <td>21.954110</td>\n",
       "      <td>61.119149</td>\n",
       "      <td>0.0</td>\n",
       "      <td>0.00</td>\n",
       "      <td>0.0</td>\n",
       "      <td>0.00</td>\n",
       "      <td>552.0</td>\n",
       "    </tr>\n",
       "    <tr>\n",
       "      <th>3SsnPorch</th>\n",
       "      <td>1460.0</td>\n",
       "      <td>3.409589</td>\n",
       "      <td>29.317331</td>\n",
       "      <td>0.0</td>\n",
       "      <td>0.00</td>\n",
       "      <td>0.0</td>\n",
       "      <td>0.00</td>\n",
       "      <td>508.0</td>\n",
       "    </tr>\n",
       "    <tr>\n",
       "      <th>ScreenPorch</th>\n",
       "      <td>1460.0</td>\n",
       "      <td>15.060959</td>\n",
       "      <td>55.757415</td>\n",
       "      <td>0.0</td>\n",
       "      <td>0.00</td>\n",
       "      <td>0.0</td>\n",
       "      <td>0.00</td>\n",
       "      <td>480.0</td>\n",
       "    </tr>\n",
       "    <tr>\n",
       "      <th>PoolArea</th>\n",
       "      <td>1460.0</td>\n",
       "      <td>2.758904</td>\n",
       "      <td>40.177307</td>\n",
       "      <td>0.0</td>\n",
       "      <td>0.00</td>\n",
       "      <td>0.0</td>\n",
       "      <td>0.00</td>\n",
       "      <td>738.0</td>\n",
       "    </tr>\n",
       "    <tr>\n",
       "      <th>MiscVal</th>\n",
       "      <td>1460.0</td>\n",
       "      <td>43.489041</td>\n",
       "      <td>496.123024</td>\n",
       "      <td>0.0</td>\n",
       "      <td>0.00</td>\n",
       "      <td>0.0</td>\n",
       "      <td>0.00</td>\n",
       "      <td>15500.0</td>\n",
       "    </tr>\n",
       "    <tr>\n",
       "      <th>MoSold</th>\n",
       "      <td>1460.0</td>\n",
       "      <td>6.321918</td>\n",
       "      <td>2.703626</td>\n",
       "      <td>1.0</td>\n",
       "      <td>5.00</td>\n",
       "      <td>6.0</td>\n",
       "      <td>8.00</td>\n",
       "      <td>12.0</td>\n",
       "    </tr>\n",
       "    <tr>\n",
       "      <th>YrSold</th>\n",
       "      <td>1460.0</td>\n",
       "      <td>2007.815753</td>\n",
       "      <td>1.328095</td>\n",
       "      <td>2006.0</td>\n",
       "      <td>2007.00</td>\n",
       "      <td>2008.0</td>\n",
       "      <td>2009.00</td>\n",
       "      <td>2010.0</td>\n",
       "    </tr>\n",
       "    <tr>\n",
       "      <th>SalePrice</th>\n",
       "      <td>1460.0</td>\n",
       "      <td>180921.195890</td>\n",
       "      <td>79442.502883</td>\n",
       "      <td>34900.0</td>\n",
       "      <td>129975.00</td>\n",
       "      <td>163000.0</td>\n",
       "      <td>214000.00</td>\n",
       "      <td>755000.0</td>\n",
       "    </tr>\n",
       "  </tbody>\n",
       "</table>\n",
       "</div>"
      ],
      "text/plain": [
       "                count           mean           std      min        25%  \\\n",
       "Id             1460.0     730.500000    421.610009      1.0     365.75   \n",
       "MSSubClass     1460.0      56.897260     42.300571     20.0      20.00   \n",
       "LotFrontage    1201.0      70.049958     24.284752     21.0      59.00   \n",
       "LotArea        1460.0   10516.828082   9981.264932   1300.0    7553.50   \n",
       "OverallQual    1460.0       6.099315      1.382997      1.0       5.00   \n",
       "OverallCond    1460.0       5.575342      1.112799      1.0       5.00   \n",
       "YearBuilt      1460.0    1971.267808     30.202904   1872.0    1954.00   \n",
       "YearRemodAdd   1460.0    1984.865753     20.645407   1950.0    1967.00   \n",
       "MasVnrArea     1452.0     103.685262    181.066207      0.0       0.00   \n",
       "BsmtFinSF1     1460.0     443.639726    456.098091      0.0       0.00   \n",
       "BsmtFinSF2     1460.0      46.549315    161.319273      0.0       0.00   \n",
       "BsmtUnfSF      1460.0     567.240411    441.866955      0.0     223.00   \n",
       "TotalBsmtSF    1460.0    1057.429452    438.705324      0.0     795.75   \n",
       "1stFlrSF       1460.0    1162.626712    386.587738    334.0     882.00   \n",
       "2ndFlrSF       1460.0     346.992466    436.528436      0.0       0.00   \n",
       "LowQualFinSF   1460.0       5.844521     48.623081      0.0       0.00   \n",
       "GrLivArea      1460.0    1515.463699    525.480383    334.0    1129.50   \n",
       "BsmtFullBath   1460.0       0.425342      0.518911      0.0       0.00   \n",
       "BsmtHalfBath   1460.0       0.057534      0.238753      0.0       0.00   \n",
       "FullBath       1460.0       1.565068      0.550916      0.0       1.00   \n",
       "HalfBath       1460.0       0.382877      0.502885      0.0       0.00   \n",
       "BedroomAbvGr   1460.0       2.866438      0.815778      0.0       2.00   \n",
       "KitchenAbvGr   1460.0       1.046575      0.220338      0.0       1.00   \n",
       "TotRmsAbvGrd   1460.0       6.517808      1.625393      2.0       5.00   \n",
       "Fireplaces     1460.0       0.613014      0.644666      0.0       0.00   \n",
       "GarageYrBlt    1379.0    1978.506164     24.689725   1900.0    1961.00   \n",
       "GarageCars     1460.0       1.767123      0.747315      0.0       1.00   \n",
       "GarageArea     1460.0     472.980137    213.804841      0.0     334.50   \n",
       "WoodDeckSF     1460.0      94.244521    125.338794      0.0       0.00   \n",
       "OpenPorchSF    1460.0      46.660274     66.256028      0.0       0.00   \n",
       "EnclosedPorch  1460.0      21.954110     61.119149      0.0       0.00   \n",
       "3SsnPorch      1460.0       3.409589     29.317331      0.0       0.00   \n",
       "ScreenPorch    1460.0      15.060959     55.757415      0.0       0.00   \n",
       "PoolArea       1460.0       2.758904     40.177307      0.0       0.00   \n",
       "MiscVal        1460.0      43.489041    496.123024      0.0       0.00   \n",
       "MoSold         1460.0       6.321918      2.703626      1.0       5.00   \n",
       "YrSold         1460.0    2007.815753      1.328095   2006.0    2007.00   \n",
       "SalePrice      1460.0  180921.195890  79442.502883  34900.0  129975.00   \n",
       "\n",
       "                    50%        75%       max  \n",
       "Id                730.5    1095.25    1460.0  \n",
       "MSSubClass         50.0      70.00     190.0  \n",
       "LotFrontage        69.0      80.00     313.0  \n",
       "LotArea          9478.5   11601.50  215245.0  \n",
       "OverallQual         6.0       7.00      10.0  \n",
       "OverallCond         5.0       6.00       9.0  \n",
       "YearBuilt        1973.0    2000.00    2010.0  \n",
       "YearRemodAdd     1994.0    2004.00    2010.0  \n",
       "MasVnrArea          0.0     166.00    1600.0  \n",
       "BsmtFinSF1        383.5     712.25    5644.0  \n",
       "BsmtFinSF2          0.0       0.00    1474.0  \n",
       "BsmtUnfSF         477.5     808.00    2336.0  \n",
       "TotalBsmtSF       991.5    1298.25    6110.0  \n",
       "1stFlrSF         1087.0    1391.25    4692.0  \n",
       "2ndFlrSF            0.0     728.00    2065.0  \n",
       "LowQualFinSF        0.0       0.00     572.0  \n",
       "GrLivArea        1464.0    1776.75    5642.0  \n",
       "BsmtFullBath        0.0       1.00       3.0  \n",
       "BsmtHalfBath        0.0       0.00       2.0  \n",
       "FullBath            2.0       2.00       3.0  \n",
       "HalfBath            0.0       1.00       2.0  \n",
       "BedroomAbvGr        3.0       3.00       8.0  \n",
       "KitchenAbvGr        1.0       1.00       3.0  \n",
       "TotRmsAbvGrd        6.0       7.00      14.0  \n",
       "Fireplaces          1.0       1.00       3.0  \n",
       "GarageYrBlt      1980.0    2002.00    2010.0  \n",
       "GarageCars          2.0       2.00       4.0  \n",
       "GarageArea        480.0     576.00    1418.0  \n",
       "WoodDeckSF          0.0     168.00     857.0  \n",
       "OpenPorchSF        25.0      68.00     547.0  \n",
       "EnclosedPorch       0.0       0.00     552.0  \n",
       "3SsnPorch           0.0       0.00     508.0  \n",
       "ScreenPorch         0.0       0.00     480.0  \n",
       "PoolArea            0.0       0.00     738.0  \n",
       "MiscVal             0.0       0.00   15500.0  \n",
       "MoSold              6.0       8.00      12.0  \n",
       "YrSold           2008.0    2009.00    2010.0  \n",
       "SalePrice      163000.0  214000.00  755000.0  "
      ]
     },
     "execution_count": 5,
     "metadata": {},
     "output_type": "execute_result"
    }
   ],
   "source": [
    "# Mostra a descrição do dataset, com medidas estatisticas\n",
    "data_train.describe().transpose()"
   ]
  },
  {
   "cell_type": "markdown",
   "metadata": {},
   "source": [
    "### Segunda Parte - Tratamento dos Dados"
   ]
  },
  {
   "cell_type": "markdown",
   "metadata": {},
   "source": [
    "Primeiramente é realizado uma contagem de valores nulos em cada coluna do dataset e os ordenando de forma crescente."
   ]
  },
  {
   "cell_type": "code",
   "execution_count": 6,
   "metadata": {
    "colab": {
     "base_uri": "https://localhost:8080/"
    },
    "executionInfo": {
     "elapsed": 573,
     "status": "ok",
     "timestamp": 1607796740728,
     "user": {
      "displayName": "Lucas Souza",
      "photoUrl": "https://lh3.googleusercontent.com/a-/AOh14GiNZSzZfQSuGqiC55rLC_abuK2ct738rvVkMm2jzg=s64",
      "userId": "04489010762287401360"
     },
     "user_tz": 180
    },
    "id": "1QcMYRK2ZJI3",
    "outputId": "752d12b8-fba1-4ad1-8e49-3c7e9a167969"
   },
   "outputs": [
    {
     "data": {
      "text/plain": [
       "Electrical         1\n",
       "MasVnrType         8\n",
       "MasVnrArea         8\n",
       "BsmtQual          37\n",
       "BsmtCond          37\n",
       "BsmtFinType1      37\n",
       "BsmtExposure      38\n",
       "BsmtFinType2      38\n",
       "GarageCond        81\n",
       "GarageQual        81\n",
       "GarageFinish      81\n",
       "GarageType        81\n",
       "GarageYrBlt       81\n",
       "LotFrontage      259\n",
       "FireplaceQu      690\n",
       "Fence           1179\n",
       "Alley           1369\n",
       "MiscFeature     1406\n",
       "PoolQC          1453\n",
       "dtype: int64"
      ]
     },
     "execution_count": 6,
     "metadata": {},
     "output_type": "execute_result"
    }
   ],
   "source": [
    "# Conta os valores nulos\n",
    "data_null = data_train.isnull().sum()\n",
    "# Coloca em ordem crescente\n",
    "data_null[data_null > 0].sort_values()"
   ]
  },
  {
   "cell_type": "markdown",
   "metadata": {
    "id": "rEqD-tLpKkxQ"
   },
   "source": [
    "É deletado as colunas que possuem uma grande quatidade de valores nulos. As que possuem uma baixa quantidade de nulos são preenchidas com a media dos valores, o que é estatisticamente equivalente."
   ]
  },
  {
   "cell_type": "code",
   "execution_count": 7,
   "metadata": {
    "executionInfo": {
     "elapsed": 480,
     "status": "ok",
     "timestamp": 1607797062756,
     "user": {
      "displayName": "Lucas Souza",
      "photoUrl": "https://lh3.googleusercontent.com/a-/AOh14GiNZSzZfQSuGqiC55rLC_abuK2ct738rvVkMm2jzg=s64",
      "userId": "04489010762287401360"
     },
     "user_tz": 180
    },
    "id": "9a_OG5MdKv9s"
   },
   "outputs": [],
   "source": [
    "# Remove as colunas com maiores valores nulos\n",
    "data_train.drop(['Id', 'PoolQC', 'MiscFeature', 'Alley', 'Fence', 'FireplaceQu'], axis=1, inplace=True)\n",
    "# Insere na posição nula a média dos valores da coluna\n",
    "data_train.fillna(data_train.mean(), inplace=True)"
   ]
  },
  {
   "cell_type": "code",
   "execution_count": 8,
   "metadata": {
    "colab": {
     "base_uri": "https://localhost:8080/"
    },
    "executionInfo": {
     "elapsed": 1313,
     "status": "ok",
     "timestamp": 1607797252799,
     "user": {
      "displayName": "Lucas Souza",
      "photoUrl": "https://lh3.googleusercontent.com/a-/AOh14GiNZSzZfQSuGqiC55rLC_abuK2ct738rvVkMm2jzg=s64",
      "userId": "04489010762287401360"
     },
     "user_tz": 180
    },
    "id": "0FkH8R58K58I",
    "outputId": "ac8c86a5-891e-4c0d-ffc5-a1744e4c4ece"
   },
   "outputs": [
    {
     "data": {
      "text/plain": [
       "MasVnrType      object\n",
       "BsmtQual        object\n",
       "BsmtCond        object\n",
       "BsmtExposure    object\n",
       "BsmtFinType1    object\n",
       "BsmtFinType2    object\n",
       "Electrical      object\n",
       "GarageType      object\n",
       "GarageFinish    object\n",
       "GarageQual      object\n",
       "GarageCond      object\n",
       "dtype: object"
      ]
     },
     "execution_count": 8,
     "metadata": {},
     "output_type": "execute_result"
    }
   ],
   "source": [
    "# Realiza nova contagem de nulos\n",
    "null_columns = data_train.isnull().sum()\n",
    "null_columns = null_columns[null_columns > 0]\n",
    "# Mostra quais colunas ainda estão nulas e seu nome.\n",
    "data_train.dtypes[null_columns.index]"
   ]
  },
  {
   "cell_type": "markdown",
   "metadata": {
    "id": "NRcOkxQ7MOAt"
   },
   "source": [
    "As unicas colunas que sobraram com valores nulos foram as categoricas. Entao é realizado uma transformação de valores categoricos para numericos utilizando o Pandas"
   ]
  },
  {
   "cell_type": "code",
   "execution_count": 9,
   "metadata": {
    "colab": {
     "base_uri": "https://localhost:8080/"
    },
    "executionInfo": {
     "elapsed": 695,
     "status": "ok",
     "timestamp": 1607798039511,
     "user": {
      "displayName": "Lucas Souza",
      "photoUrl": "https://lh3.googleusercontent.com/a-/AOh14GiNZSzZfQSuGqiC55rLC_abuK2ct738rvVkMm2jzg=s64",
      "userId": "04489010762287401360"
     },
     "user_tz": 180
    },
    "id": "lILJ89EXLoTc",
    "outputId": "a4c9a2d9-cf1e-4627-8a91-39ec601b9284"
   },
   "outputs": [
    {
     "name": "stdout",
     "output_type": "stream",
     "text": [
      "<class 'pandas.core.frame.DataFrame'>\n",
      "RangeIndex: 1460 entries, 0 to 1459\n",
      "Columns: 271 entries, MSSubClass to SaleCondition_Partial\n",
      "dtypes: float64(3), int64(34), uint8(234)\n",
      "memory usage: 755.7 KB\n"
     ]
    }
   ],
   "source": [
    "# Transforma categoricos para numericos\n",
    "df_train_dummies = pd.get_dummies(data_train)\n",
    "df_train_dummies.info()"
   ]
  },
  {
   "cell_type": "markdown",
   "metadata": {},
   "source": [
    "Para o Machine Learning será separado os dados em Treino e Teste. Também é separado em x e y, que são as variáveis dependentes e independentes respectivamente. O y é o target que queremos prever mas como é um aprendizado supervisionado, ele é utilizado no treino."
   ]
  },
  {
   "cell_type": "code",
   "execution_count": 10,
   "metadata": {
    "executionInfo": {
     "elapsed": 755,
     "status": "ok",
     "timestamp": 1607798088004,
     "user": {
      "displayName": "Lucas Souza",
      "photoUrl": "https://lh3.googleusercontent.com/a-/AOh14GiNZSzZfQSuGqiC55rLC_abuK2ct738rvVkMm2jzg=s64",
      "userId": "04489010762287401360"
     },
     "user_tz": 180
    },
    "id": "-RWrQpQpOTbF"
   },
   "outputs": [],
   "source": [
    "y_total = df_train_dummies['SalePrice']\n",
    "x_total = df_train_dummies.drop('SalePrice', axis=1, inplace=False)"
   ]
  },
  {
   "cell_type": "code",
   "execution_count": 11,
   "metadata": {
    "executionInfo": {
     "elapsed": 605,
     "status": "ok",
     "timestamp": 1607798112122,
     "user": {
      "displayName": "Lucas Souza",
      "photoUrl": "https://lh3.googleusercontent.com/a-/AOh14GiNZSzZfQSuGqiC55rLC_abuK2ct738rvVkMm2jzg=s64",
      "userId": "04489010762287401360"
     },
     "user_tz": 180
    },
    "id": "6npbfn_5Owop"
   },
   "outputs": [],
   "source": [
    "# Separa em treino e teste tanto para x quanto y.\n",
    "x_train, x_test, y_train, y_test = train_test_split(x_total, y_total, test_size=0.2)"
   ]
  },
  {
   "cell_type": "markdown",
   "metadata": {
    "id": "hrgE9n1wMX6I"
   },
   "source": [
    "### Terceira Parte - Aprendizado de Maquina"
   ]
  },
  {
   "cell_type": "markdown",
   "metadata": {
    "id": "PPFrLV-AOMzd"
   },
   "source": [
    "O primeiro algoritmo, neste caso, os primeiros, será Regressão Linear. Que é um algoritmo de aprendizado supervisionado. \n",
    "Para nosso modelo utilizamos a Regressão Linear normal, a Regressão Ridge e a Regressão Lasso, que são semelhantes a linear porem com uma regularização diferente, de modo a reduzir o ajuste excessivo de dados melhorando sua generalização."
   ]
  },
  {
   "cell_type": "code",
   "execution_count": 12,
   "metadata": {
    "executionInfo": {
     "elapsed": 867,
     "status": "ok",
     "timestamp": 1607798625745,
     "user": {
      "displayName": "Lucas Souza",
      "photoUrl": "https://lh3.googleusercontent.com/a-/AOh14GiNZSzZfQSuGqiC55rLC_abuK2ct738rvVkMm2jzg=s64",
      "userId": "04489010762287401360"
     },
     "user_tz": 180
    },
    "id": "6Mg9LYyhPDy5"
   },
   "outputs": [],
   "source": [
    "# Cria a variavel de Regressao Linear\n",
    "linear_reg = LinearRegression()\n",
    "# Cria a variavel de Regressao Ridge\n",
    "ridge_reg = Ridge()\n",
    "# Cria a variavel de Regressao Lasso\n",
    "lasso_reg = Lasso()"
   ]
  },
  {
   "cell_type": "code",
   "execution_count": 13,
   "metadata": {
    "colab": {
     "base_uri": "https://localhost:8080/"
    },
    "executionInfo": {
     "elapsed": 1057,
     "status": "ok",
     "timestamp": 1607798653645,
     "user": {
      "displayName": "Lucas Souza",
      "photoUrl": "https://lh3.googleusercontent.com/a-/AOh14GiNZSzZfQSuGqiC55rLC_abuK2ct738rvVkMm2jzg=s64",
      "userId": "04489010762287401360"
     },
     "user_tz": 180
    },
    "id": "3yBkhgeNPKoR",
    "outputId": "4ce220f3-681f-4e37-ef6c-b6b1316edd6b"
   },
   "outputs": [
    {
     "data": {
      "text/plain": [
       "Lasso(alpha=1.0, copy_X=True, fit_intercept=True, max_iter=1000,\n",
       "   normalize=False, positive=False, precompute=False, random_state=None,\n",
       "   selection='cyclic', tol=0.0001, warm_start=False)"
      ]
     },
     "execution_count": 13,
     "metadata": {},
     "output_type": "execute_result"
    }
   ],
   "source": [
    "# Realiza o treinamento da Regressao Linear\n",
    "linear_reg.fit(x_train, y_train)\n",
    "# Realiza o treinamento da Regressao Ridge\n",
    "ridge_reg.fit(x_train, y_train)\n",
    "# Realiza o treinamento da Regressao Lasso\n",
    "lasso_reg.fit(x_train, y_train)"
   ]
  },
  {
   "cell_type": "code",
   "execution_count": 14,
   "metadata": {
    "executionInfo": {
     "elapsed": 732,
     "status": "ok",
     "timestamp": 1607798900230,
     "user": {
      "displayName": "Lucas Souza",
      "photoUrl": "https://lh3.googleusercontent.com/a-/AOh14GiNZSzZfQSuGqiC55rLC_abuK2ct738rvVkMm2jzg=s64",
      "userId": "04489010762287401360"
     },
     "user_tz": 180
    },
    "id": "_TGPfn7kPO5p"
   },
   "outputs": [],
   "source": [
    "# Faz a predição da Regressao Linear com o x de teste\n",
    "linear_pred = linear_reg.predict(x_test)\n",
    "# Faz a predição da Regressao Ridge com o x de teste\n",
    "ridge_pred = ridge_reg.predict(x_test)\n",
    "# Faz a predição da Regressao Lasso com o x de teste\n",
    "lasso_pred = lasso_reg.predict(x_test)"
   ]
  },
  {
   "cell_type": "markdown",
   "metadata": {
    "id": "kP8DYMeTSvuI"
   },
   "source": [
    "O segundo algoritmo de aprendizado de maquina utilizado é Random Forest, que é um algoritmo de aprendizado supervisionado.\n",
    "É um algoritmo que utiliza o varios modelos de arvores de decisão, onde o primeiro nó é a raiz, os nós filhos possuem regras, e os nós folhas são a decisão tomada. Para a tomada de decisão, é necessário percorrer por um dos caminhos passando por suas respectivas regras. A Random Forest avalia todas as decisões tomada por suas arvores de decisões e a que for a mais votada, será a decisão final tomada."
   ]
  },
  {
   "cell_type": "code",
   "execution_count": 15,
   "metadata": {
    "executionInfo": {
     "elapsed": 634,
     "status": "ok",
     "timestamp": 1607799137331,
     "user": {
      "displayName": "Lucas Souza",
      "photoUrl": "https://lh3.googleusercontent.com/a-/AOh14GiNZSzZfQSuGqiC55rLC_abuK2ct738rvVkMm2jzg=s64",
      "userId": "04489010762287401360"
     },
     "user_tz": 180
    },
    "id": "YZ2NswUKR8Yb"
   },
   "outputs": [],
   "source": [
    "# Cria variavel de Random Forest\n",
    "random_model = RandomForestRegressor(random_state=0)"
   ]
  },
  {
   "cell_type": "code",
   "execution_count": 16,
   "metadata": {
    "colab": {
     "base_uri": "https://localhost:8080/"
    },
    "executionInfo": {
     "elapsed": 3246,
     "status": "ok",
     "timestamp": 1607799153931,
     "user": {
      "displayName": "Lucas Souza",
      "photoUrl": "https://lh3.googleusercontent.com/a-/AOh14GiNZSzZfQSuGqiC55rLC_abuK2ct738rvVkMm2jzg=s64",
      "userId": "04489010762287401360"
     },
     "user_tz": 180
    },
    "id": "nnlmTnMyS-Fc",
    "outputId": "c421392d-49d9-44ee-fa06-167522ffe359"
   },
   "outputs": [
    {
     "data": {
      "text/plain": [
       "RandomForestRegressor(bootstrap=True, criterion='mse', max_depth=None,\n",
       "           max_features='auto', max_leaf_nodes=None,\n",
       "           min_impurity_decrease=0.0, min_impurity_split=None,\n",
       "           min_samples_leaf=1, min_samples_split=2,\n",
       "           min_weight_fraction_leaf=0.0, n_estimators=10, n_jobs=None,\n",
       "           oob_score=False, random_state=0, verbose=0, warm_start=False)"
      ]
     },
     "execution_count": 16,
     "metadata": {},
     "output_type": "execute_result"
    }
   ],
   "source": [
    "# Realiza o treino da Random Forest\n",
    "random_model.fit(x_train, y_train)"
   ]
  },
  {
   "cell_type": "code",
   "execution_count": 17,
   "metadata": {
    "executionInfo": {
     "elapsed": 606,
     "status": "ok",
     "timestamp": 1607799179661,
     "user": {
      "displayName": "Lucas Souza",
      "photoUrl": "https://lh3.googleusercontent.com/a-/AOh14GiNZSzZfQSuGqiC55rLC_abuK2ct738rvVkMm2jzg=s64",
      "userId": "04489010762287401360"
     },
     "user_tz": 180
    },
    "id": "nDS5RnCRTBgL"
   },
   "outputs": [],
   "source": [
    "# Faz a predição da Random Forest utilizando o x de teste\n",
    "random_pred = random_model.predict(x_test)"
   ]
  },
  {
   "cell_type": "markdown",
   "metadata": {},
   "source": [
    "### Quarta Parte - Avaliação de Métricas"
   ]
  },
  {
   "cell_type": "markdown",
   "metadata": {
    "id": "UwbBvAf-TiWO"
   },
   "source": [
    "Utilizamos três métricas que são empregadas em algoritmos para regressão."
   ]
  },
  {
   "cell_type": "markdown",
   "metadata": {},
   "source": [
    "RMSE é a medida que calcula a Raiz Quadrada Média dos erros entre os valores reais e os preditos."
   ]
  },
  {
   "cell_type": "code",
   "execution_count": 18,
   "metadata": {
    "executionInfo": {
     "elapsed": 794,
     "status": "ok",
     "timestamp": 1607800906702,
     "user": {
      "displayName": "Lucas Souza",
      "photoUrl": "https://lh3.googleusercontent.com/a-/AOh14GiNZSzZfQSuGqiC55rLC_abuK2ct738rvVkMm2jzg=s64",
      "userId": "04489010762287401360"
     },
     "user_tz": 180
    },
    "id": "zWVW_sG2RaD_"
   },
   "outputs": [],
   "source": [
    "# Calcula a média dos erros quadrados\n",
    "linear_mse = mean_squared_error(y_test, linear_pred)\n",
    "ridge_mse = mean_squared_error(y_test, ridge_pred)\n",
    "lasso_mse = mean_squared_error(y_test, lasso_pred)\n",
    "random_mse = mean_squared_error(random_pred, y_test)\n",
    "\n",
    "# Calcula a raiz das médias dos erros quadrados e os arredonda para até 4 numeros significativos\n",
    "linear_rmse = np.round(np.sqrt(linear_mse), 4)\n",
    "ridge_rmse = np.round(np.sqrt(ridge_mse), 4)\n",
    "lasso_rmse = np.round(np.sqrt(lasso_mse), 4)\n",
    "random_rmse = np.round(np.sqrt(random_mse), 4)"
   ]
  },
  {
   "cell_type": "markdown",
   "metadata": {},
   "source": [
    "R2 é a medida estatistica de o quão perto os dados estão da linha criada pela regressão ajustada. É conhecido com coeficiente de determinação. Seu valor varia de 0% a 100%.\n",
    "0% o modelo não explica nada da variabilidade dos dados ao redor de sua média.\n",
    "100% indica que o modelo explica toda a variabilidade ao redor de sua média."
   ]
  },
  {
   "cell_type": "code",
   "execution_count": 19,
   "metadata": {
    "executionInfo": {
     "elapsed": 1087,
     "status": "ok",
     "timestamp": 1607801094084,
     "user": {
      "displayName": "Lucas Souza",
      "photoUrl": "https://lh3.googleusercontent.com/a-/AOh14GiNZSzZfQSuGqiC55rLC_abuK2ct738rvVkMm2jzg=s64",
      "userId": "04489010762287401360"
     },
     "user_tz": 180
    },
    "id": "Xbag6_dBUA5Y"
   },
   "outputs": [],
   "source": [
    "# Calcula o R2 dos modelos e arredonda para até 4 numeros significativos, transformando em porcentagem\n",
    "linear_r2 = np.round(r2_score(y_test, lasso_pred), 4) * 100\n",
    "ridge_r2 = np.round(r2_score(y_test, lasso_pred), 4) * 100\n",
    "lasso_r2 = np.round(r2_score(y_test, lasso_pred), 4) * 100\n",
    "random_r2 = np.round(r2_score(y_test, random_pred), 4) * 100"
   ]
  },
  {
   "cell_type": "markdown",
   "metadata": {},
   "source": [
    "O Cross Validation é uma tecnica utilizada para avaliar o desempenho dos modelos de aprendizagem. Ele separa os dados em varios conjuntos para treino e um para teste e avalia o desempenho do modelo utilizando estes conjuntos."
   ]
  },
  {
   "cell_type": "code",
   "execution_count": 20,
   "metadata": {
    "id": "UY9Jhy2ncE7F"
   },
   "outputs": [],
   "source": [
    "# Calcula o Cross Validation para os modelos. O padrão é 5 conjuntos.\n",
    "linear_result = cross_val_score(linear_reg, x_test, y_test)\n",
    "ridge_result = cross_val_score(ridge_reg, x_test, y_test)\n",
    "lasso_result = cross_val_score(lasso_reg, x_test, y_test)\n",
    "random_result = cross_val_score(random_model, x_test, y_test)"
   ]
  },
  {
   "cell_type": "markdown",
   "metadata": {},
   "source": [
    "#### Mostrando as Métricas"
   ]
  },
  {
   "cell_type": "markdown",
   "metadata": {},
   "source": [
    "Pelo RMSE foi observado que o erro está dentro de uma margem que não foi considerada ruim, pois olhando para os dados, o valor minimo do preço é de 34900,00 e o máximo é 755000,00."
   ]
  },
  {
   "cell_type": "code",
   "execution_count": 21,
   "metadata": {
    "colab": {
     "base_uri": "https://localhost:8080/"
    },
    "executionInfo": {
     "elapsed": 744,
     "status": "ok",
     "timestamp": 1607800992914,
     "user": {
      "displayName": "Lucas Souza",
      "photoUrl": "https://lh3.googleusercontent.com/a-/AOh14GiNZSzZfQSuGqiC55rLC_abuK2ct738rvVkMm2jzg=s64",
      "userId": "04489010762287401360"
     },
     "user_tz": 180
    },
    "id": "_aW1tbFXVxuv",
    "outputId": "e4fc64cd-1da5-4d8f-f080-c0ab943b05f0"
   },
   "outputs": [
    {
     "name": "stdout",
     "output_type": "stream",
     "text": [
      "Linear RMSE:  29022.9893\n",
      "Ridge RMSE:  26541.1858\n",
      "Lasso RMSE:  27666.0475\n",
      "Random RMSE:  29869.5416\n"
     ]
    }
   ],
   "source": [
    "print(\"Linear RMSE: \", linear_rmse)\n",
    "print(\"Ridge RMSE: \", ridge_rmse)\n",
    "print(\"Lasso RMSE: \", lasso_rmse)\n",
    "print(\"Random RMSE: \", random_rmse)"
   ]
  },
  {
   "cell_type": "markdown",
   "metadata": {},
   "source": [
    "Pelo R2 observamos que ambos os modelos representam uma boa variabilidade em torno da média."
   ]
  },
  {
   "cell_type": "code",
   "execution_count": 22,
   "metadata": {
    "colab": {
     "base_uri": "https://localhost:8080/"
    },
    "executionInfo": {
     "elapsed": 775,
     "status": "ok",
     "timestamp": 1607801096786,
     "user": {
      "displayName": "Lucas Souza",
      "photoUrl": "https://lh3.googleusercontent.com/a-/AOh14GiNZSzZfQSuGqiC55rLC_abuK2ct738rvVkMm2jzg=s64",
      "userId": "04489010762287401360"
     },
     "user_tz": 180
    },
    "id": "ZXusPNjeaDEE",
    "outputId": "126f07d6-09a0-440f-ef74-14887d78867d"
   },
   "outputs": [
    {
     "name": "stdout",
     "output_type": "stream",
     "text": [
      "Linear R2:  87.47 %\n",
      "Ridge R2:  87.47 %\n",
      "Lasso R2:  87.47 %\n",
      "Random R2:  85.39999999999999 %\n"
     ]
    }
   ],
   "source": [
    "print(\"Linear R2: \", linear_r2, \"%\")\n",
    "print(\"Ridge R2: \", ridge_r2, \"%\")\n",
    "print(\"Lasso R2: \", lasso_r2, \"%\")\n",
    "print(\"Random R2: \", random_r2, \"%\")"
   ]
  },
  {
   "cell_type": "markdown",
   "metadata": {},
   "source": [
    "Pelo Cross Validation Podemos perceber que o Modelo Ridge e Random Forest possuem a melhor eficácia para realizar predição."
   ]
  },
  {
   "cell_type": "code",
   "execution_count": 23,
   "metadata": {
    "colab": {
     "base_uri": "https://localhost:8080/"
    },
    "executionInfo": {
     "elapsed": 630,
     "status": "ok",
     "timestamp": 1607802229216,
     "user": {
      "displayName": "Lucas Souza",
      "photoUrl": "https://lh3.googleusercontent.com/a-/AOh14GiNZSzZfQSuGqiC55rLC_abuK2ct738rvVkMm2jzg=s64",
      "userId": "04489010762287401360"
     },
     "user_tz": 180
    },
    "id": "LIPAgKc7cgSs",
    "outputId": "d2e73f36-8333-434a-b2e9-232c2067e5b7"
   },
   "outputs": [
    {
     "name": "stdout",
     "output_type": "stream",
     "text": [
      "Linear Cross Validation:  -5.654\n",
      "Ridge Cross Validation:  0.7963\n",
      "Lasso Cross Validation:  0.0057\n",
      "Random Cross Validation:  0.7827\n"
     ]
    }
   ],
   "source": [
    "print(\"Linear Cross Validation: \", np.round(linear_result.mean(), 4))\n",
    "print(\"Ridge Cross Validation: \", np.round(ridge_result.mean(), 4))\n",
    "print(\"Lasso Cross Validation: \", np.round(lasso_result.mean(), 4))\n",
    "print(\"Random Cross Validation: \", np.round(random_result.mean(), 4))"
   ]
  },
  {
   "cell_type": "markdown",
   "metadata": {},
   "source": [
    "A Acurácia confirma que o modelo Ridge e Random Forest são os melhores aplicados para este tipo de problema."
   ]
  },
  {
   "cell_type": "code",
   "execution_count": 24,
   "metadata": {
    "colab": {
     "base_uri": "https://localhost:8080/"
    },
    "executionInfo": {
     "elapsed": 746,
     "status": "ok",
     "timestamp": 1607802425209,
     "user": {
      "displayName": "Lucas Souza",
      "photoUrl": "https://lh3.googleusercontent.com/a-/AOh14GiNZSzZfQSuGqiC55rLC_abuK2ct738rvVkMm2jzg=s64",
      "userId": "04489010762287401360"
     },
     "user_tz": 180
    },
    "id": "e4Sq0GeQew6w",
    "outputId": "f01716be-92e1-467c-b4b3-67af6a453256",
    "scrolled": true
   },
   "outputs": [
    {
     "name": "stdout",
     "output_type": "stream",
     "text": [
      "Acuracia Regressao Linear: -5.65 (+/- 14.03)\n",
      "Acuracia Regressao Ridge: 0.80 (+/- 0.02)\n",
      "Acuracia Regressao Lasso: 0.01 (+/- 0.90)\n",
      "Acuracia Random Forest: 0.78 (+/- 0.01)\n"
     ]
    }
   ],
   "source": [
    "print(\"Acuracia Regressao Linear: %0.2f (+/- %0.2f)\" % (linear_result.mean(), linear_result.std() * 2))\n",
    "print(\"Acuracia Regressao Ridge: %0.2f (+/- %0.2f)\" % (ridge_result.mean(), ridge_result.std() * 2))\n",
    "print(\"Acuracia Regressao Lasso: %0.2f (+/- %0.2f)\" % (lasso_result.mean(), lasso_result.std() * 2))\n",
    "print(\"Acuracia Random Forest: %0.2f (+/- %0.2f)\" % (random_result.mean(), random_result.std() * 2))"
   ]
  },
  {
   "cell_type": "markdown",
   "metadata": {},
   "source": [
    "### Conclusão"
   ]
  },
  {
   "cell_type": "markdown",
   "metadata": {},
   "source": [
    "Os tratamentos realizados nos dados foram simples e não foi feito uma exploração mais profunda para melhor entendimento. Os algoritmos que utilizamos foram bem ajustados aos dados e criaram modelos que podem ser utilizados para predição. Embora uma acuracia de 80% não seja ideal para o mundo real, nestes exemplos ela foi uma grande conquista. \n",
    "Para referencias futuras um melhor tratamento nos dados e um estudo de qual coluna tem maior relevancia na tomada de decisão da regressão pode ajudar a melhorar a acuracia dos modelos.\n",
    "É concluido que a Random Forest e a Regressão Lasso foram os que melhores se ajustaram ao modelo e sua variabilidade."
   ]
  }
 ],
 "metadata": {
  "colab": {
   "authorship_tag": "ABX9TyOhT0L4zcK8vsRnrD9nn3ds",
   "collapsed_sections": [],
   "name": "ProjetoFinal.ipynb",
   "provenance": []
  },
  "kernelspec": {
   "display_name": "Python 3",
   "language": "python",
   "name": "python3"
  },
  "language_info": {
   "codemirror_mode": {
    "name": "ipython",
    "version": 3
   },
   "file_extension": ".py",
   "mimetype": "text/x-python",
   "name": "python",
   "nbconvert_exporter": "python",
   "pygments_lexer": "ipython3",
   "version": "3.7.3"
  }
 },
 "nbformat": 4,
 "nbformat_minor": 1
}
